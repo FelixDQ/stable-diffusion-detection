{
 "cells": [
  {
   "cell_type": "code",
   "execution_count": 1,
   "metadata": {},
   "outputs": [],
   "source": [
    "import itertools\n",
    "import json\n",
    "import pandas as pd\n",
    "import subprocess\n",
    "import os"
   ]
  },
  {
   "cell_type": "code",
   "execution_count": 2,
   "metadata": {},
   "outputs": [],
   "source": [
    "models = [\"vit\", \"convnext\", \"xception\"]\n",
    "versions = [\"1.4\", \"2.0\", \"2.1\"]\n",
    "squeezed = True\n",
    "\n",
    "d = {}\n",
    "for model, version in itertools.product(models, versions):\n",
    "    file = f\"{model}_{version}_squeezed_robustness.json\"\n",
    "    with open(file) as f:\n",
    "        data = json.load(f)\n",
    "        d[model + \"_\" + version] = data\n",
    "\n",
    "    if squeezed:\n",
    "        file = f\"{model}_{version}_squeezed_square_partial_robustness.json\"\n",
    "\n",
    "        full_file = f\"{model}_{version}_squeezed_square_robustness.json\"\n",
    "        if os.path.exists(full_file):\n",
    "            file = full_file\n",
    "\n",
    "        with open(file) as f:\n",
    "            data = json.load(f)\n",
    "            for key in data.keys():\n",
    "                d[model + \"_\" + version][key] = data[key]\n",
    "\n",
    "df = pd.DataFrame(d)\n"
   ]
  },
  {
   "cell_type": "code",
   "execution_count": 3,
   "metadata": {},
   "outputs": [
    {
     "name": "stderr",
     "output_type": "stream",
     "text": [
      "/var/folders/98/wjg9j1cx1gbf3ky__8dpb3br0000gn/T/ipykernel_49005/2660187950.py:19: SettingWithCopyWarning: \n",
      "A value is trying to be set on a copy of a slice from a DataFrame\n",
      "\n",
      "See the caveats in the documentation: https://pandas.pydata.org/pandas-docs/stable/user_guide/indexing.html#returning-a-view-versus-a-copy\n",
      "  df['1.4'].loc['1.4'] = [\"-\", \"-\", \"-\"]\n",
      "/var/folders/98/wjg9j1cx1gbf3ky__8dpb3br0000gn/T/ipykernel_49005/2660187950.py:20: SettingWithCopyWarning: \n",
      "A value is trying to be set on a copy of a slice from a DataFrame\n",
      "\n",
      "See the caveats in the documentation: https://pandas.pydata.org/pandas-docs/stable/user_guide/indexing.html#returning-a-view-versus-a-copy\n",
      "  df['2.0'].loc['2.0'] = [\"-\", \"-\", \"-\"]\n",
      "/var/folders/98/wjg9j1cx1gbf3ky__8dpb3br0000gn/T/ipykernel_49005/2660187950.py:21: SettingWithCopyWarning: \n",
      "A value is trying to be set on a copy of a slice from a DataFrame\n",
      "\n",
      "See the caveats in the documentation: https://pandas.pydata.org/pandas-docs/stable/user_guide/indexing.html#returning-a-view-versus-a-copy\n",
      "  df['2.1'].loc['2.1'] = [\"-\", \"-\", \"-\"]\n"
     ]
    }
   ],
   "source": [
    "new_cols = [(x.split('_')[1], x.split('_')[0]) for x in df.columns]\n",
    "df.columns = pd.MultiIndex.from_tuples(new_cols)\n",
    "df = df.filter(regex='cm', axis=0)\n",
    "df.index = df.index.str.replace('_cm', '')\n",
    "df = df.rename(index=lambda x: x.replace(\"linf_0.01568627450980392\", \"$\\epsilon=4/255$\"))\n",
    "df = df.rename(index=lambda x: x.replace(\"linf_0.03137254901960784\", \"$\\epsilon=8/255$\"))\n",
    "df = df.rename(index=lambda x: x.replace(\"pad30\", \"pad\"))\n",
    "df = df.drop([\"pad3\", \"pad10\", \"pad50\", \"colorjitter\"])\n",
    "df = df.reindex(sorted(df.columns), axis=1)\n",
    "\n",
    "nat_14 = df['1.4'].loc['1.4']\n",
    "nat_20 = df['2.0'].loc['2.0']\n",
    "nat_21 = df['2.1'].loc['2.1']\n",
    "\n",
    "nat = pd.concat([nat_14, nat_20, nat_21], axis=0)\n",
    "nat.index = df.columns\n",
    "df.loc['natural samples'] = nat\n",
    "\n",
    "df['1.4'].loc['1.4'] = [\"-\", \"-\", \"-\"]\n",
    "df['2.0'].loc['2.0'] = [\"-\", \"-\", \"-\"]\n",
    "df['2.1'].loc['2.1'] = [\"-\", \"-\", \"-\"]\n",
    "\n",
    "df = df.iloc[[9, 3, 4,5,6,7,8,0,1,2]]"
   ]
  },
  {
   "cell_type": "code",
   "execution_count": 4,
   "metadata": {},
   "outputs": [
    {
     "name": "stderr",
     "output_type": "stream",
     "text": [
      "/var/folders/98/wjg9j1cx1gbf3ky__8dpb3br0000gn/T/ipykernel_49005/3018746334.py:56: FutureWarning: iteritems is deprecated and will be removed in a future version. Use .items instead.\n",
      "  for k, ((training_version, architecture), cf) in enumerate(row[1].iteritems()):\n",
      "/var/folders/98/wjg9j1cx1gbf3ky__8dpb3br0000gn/T/ipykernel_49005/3018746334.py:68: FutureWarning: iteritems is deprecated and will be removed in a future version. Use .items instead.\n",
      "  for k, ((training_version, architecture), cf) in enumerate(row[1].iteritems()):\n"
     ]
    },
    {
     "data": {
      "text/plain": [
       "CompletedProcess(args='pbcopy', returncode=0)"
      ]
     },
     "execution_count": 4,
     "metadata": {},
     "output_type": "execute_result"
    }
   ],
   "source": [
    "tex = \"\"\"\n",
    "\\\\begin{table}[]\n",
    "\\\\caption{Confusion matrix for feature squeezing defense.}\n",
    "\\\\resizebox{\\\\textwidth}{!}{%\n",
    "\\\\begin{tabular}{l|cccccc|cccccc|cccccc}\n",
    "Training set &\n",
    "  \\multicolumn{6}{l|}{\\\\textbf{1.4}} &\n",
    "  \\multicolumn{6}{l|}{\\\\textbf{2.0}} &\n",
    "  \\multicolumn{6}{l}{\\\\textbf{2.1}} \\\\\\\\\n",
    "Model architecture &\n",
    "  \\multicolumn{2}{l}{ConvNext} &\n",
    "  \\multicolumn{2}{l}{ViT} &\n",
    "  \\multicolumn{2}{l|}{Xception} &\n",
    "  \\multicolumn{2}{l}{ConvNext} &\n",
    "  \\multicolumn{2}{l}{ViT} &\n",
    "  \\multicolumn{2}{l|}{Xception} &\n",
    "  \\multicolumn{2}{l}{ConvNext} &\n",
    "  \\multicolumn{2}{l}{ViT} &\n",
    "  \\multicolumn{2}{l}{Xception} \\\\\\\\ \\\\hline\n",
    "\"\"\"\n",
    "\n",
    "def get_color(i,k):\n",
    "    if k%2 == 0:\n",
    "        if i % 2 == 0:\n",
    "            return \"FFFFFF\"\n",
    "        else:\n",
    "            return \"EFEFEF\"\n",
    "    else:\n",
    "        if i % 2 == 0:\n",
    "            return \"EFEFEF\"\n",
    "        else:\n",
    "            return \"FFFFFF\"\n",
    "\n",
    "for i, row in enumerate(df.iterrows()):\n",
    "    if row[0] == \"natural samples\":\n",
    "        tex += \"\\\\multirow{2}{*}{\\\\textbf{Natural samples}} & \\n\"\n",
    "    elif row[0] == \"pad\":\n",
    "        tex += \"\\\\textbf{NSP} & \\n\"\n",
    "        for _ in range(17):\n",
    "            tex += \" & \\n\"\n",
    "        tex += \"\\\\\\\\ \\n\"\n",
    "    elif row[0] == \"$\\epsilon=4/255$\":\n",
    "        tex += \"\\\\textbf{A-PGD} ($L_\\infty$) & \\n\"\n",
    "        for _ in range(17):\n",
    "            tex += \" & \\n\"\n",
    "        tex += \"\\\\\\\\ \\n\"\n",
    "    elif row[0] == \"1.4\":\n",
    "        tex += \"\\\\textbf{Other datasets} & \\n\"\n",
    "        for _ in range(17):\n",
    "            tex += \" & \\n\"\n",
    "        tex += \"\\\\\\\\ \\n\"\n",
    "\n",
    "    if row[0] != \"natural samples\":\n",
    "        tex += \"\\\\multirow{2}{*}{\" + row[0] + \"} & \\n\"\n",
    "\n",
    "    for k, ((training_version, architecture), cf) in enumerate(row[1].iteritems()):\n",
    "        color = get_color(i,k)\n",
    "        if cf == \"-\":\n",
    "            tex += \" \\\\cellcolor[HTML]{\" + color + \"} - &\"\n",
    "            tex += \" \\\\cellcolor[HTML]{\" + color + \"} - &\"\n",
    "        else:\n",
    "            tex += \" \\\\cellcolor[HTML]{\" + color + \"} \" + str(cf[0][0]) + \" &\"\n",
    "            tex += \" \\\\cellcolor[HTML]{\" + color + \"} \" + str(cf[0][1]) + \" &\"\n",
    "    if tex[-1] == \"&\":\n",
    "        tex = tex[:-1]\n",
    "    tex += \"\\\\\\\\ \\n\"\n",
    "    tex += \"& \\n\"\n",
    "    for k, ((training_version, architecture), cf) in enumerate(row[1].iteritems()):\n",
    "        color = get_color(i,k)\n",
    "        if cf == \"-\":\n",
    "            tex += \" \\\\cellcolor[HTML]{\" + color + \"} - &\"\n",
    "            tex += \" \\\\cellcolor[HTML]{\" + color + \"} - &\"\n",
    "        else:\n",
    "            tex += \" \\\\cellcolor[HTML]{\" + color + \"} \" + str(cf[1][0]) + \" &\"\n",
    "            tex += \" \\\\cellcolor[HTML]{\" + color + \"} \" + str(cf[1][1]) + \" &\"\n",
    "    if tex[-1] == \"&\":\n",
    "        tex = tex[:-1]\n",
    "    tex += \"\\\\\\\\ \\n\"\n",
    "\n",
    "    \n",
    "\n",
    "\n",
    "tex += \"\"\"\n",
    "\\\\end{tabular}%\n",
    "}\n",
    "\\\\end{table}\n",
    "\"\"\"\n",
    "\n",
    "subprocess.run(\"pbcopy\", text=True, input=tex)"
   ]
  },
  {
   "cell_type": "code",
   "execution_count": null,
   "metadata": {},
   "outputs": [],
   "source": []
  }
 ],
 "metadata": {
  "kernelspec": {
   "display_name": "Python 3",
   "language": "python",
   "name": "python3"
  },
  "language_info": {
   "codemirror_mode": {
    "name": "ipython",
    "version": 3
   },
   "file_extension": ".py",
   "mimetype": "text/x-python",
   "name": "python",
   "nbconvert_exporter": "python",
   "pygments_lexer": "ipython3",
   "version": "3.10.6"
  },
  "orig_nbformat": 4
 },
 "nbformat": 4,
 "nbformat_minor": 2
}
